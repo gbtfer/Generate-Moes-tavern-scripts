{
 "cells": [
  {
   "cell_type": "markdown",
   "metadata": {},
   "source": [
    "# TV Script Generation\n",
    "In this project, you'll generate your own [Simpsons](https://en.wikipedia.org/wiki/The_Simpsons) TV scripts using RNNs.  You'll be using part of the [Simpsons dataset](https://www.kaggle.com/wcukierski/the-simpsons-by-the-data) of scripts from 27 seasons.  The Neural Network you'll build will generate a new TV script for a scene at [Moe's Tavern](https://simpsonswiki.com/wiki/Moe's_Tavern).\n",
    "## Get the Data\n",
    "The data is already provided for you.  You'll be using a subset of the original dataset.  It consists of only the scenes in Moe's Tavern.  This doesn't include other versions of the tavern, like \"Moe's Cavern\", \"Flaming Moe's\", \"Uncle Moe's Family Feed-Bag\", etc.."
   ]
  },
  {
   "cell_type": "code",
   "execution_count": 1,
   "metadata": {},
   "outputs": [],
   "source": [
    "\"\"\"\n",
    "DON'T MODIFY ANYTHING IN THIS CELL\n",
    "\"\"\"\n",
    "import helper\n",
    "\n",
    "data_dir = './data/simpsons/moes_tavern_lines.txt'\n",
    "text = helper.load_data(data_dir)\n",
    "# Ignore notice, since we don't use it for analysing the data\n",
    "text = text[81:]"
   ]
  },
  {
   "cell_type": "markdown",
   "metadata": {},
   "source": [
    "## Explore the Data\n",
    "Play around with `view_sentence_range` to view different parts of the data."
   ]
  },
  {
   "cell_type": "code",
   "execution_count": 2,
   "metadata": {},
   "outputs": [
    {
     "name": "stdout",
     "output_type": "stream",
     "text": [
      "Dataset Stats\n",
      "Roughly the number of unique words: 11492\n",
      "Number of scenes: 262\n",
      "Average number of sentences in each scene: 15.248091603053435\n",
      "Number of lines: 4257\n",
      "Average number of words in each line: 11.50434578341555\n",
      "\n",
      "The sentences 0 to 10:\n",
      "Moe_Szyslak: (INTO PHONE) Moe's Tavern. Where the elite meet to drink.\n",
      "Bart_Simpson: Eh, yeah, hello, is Mike there? Last name, Rotch.\n",
      "Moe_Szyslak: (INTO PHONE) Hold on, I'll check. (TO BARFLIES) Mike Rotch. Mike Rotch. Hey, has anybody seen Mike Rotch, lately?\n",
      "Moe_Szyslak: (INTO PHONE) Listen you little puke. One of these days I'm gonna catch you, and I'm gonna carve my name on your back with an ice pick.\n",
      "Moe_Szyslak: What's the matter Homer? You're not your normal effervescent self.\n",
      "Homer_Simpson: I got my problems, Moe. Give me another one.\n",
      "Moe_Szyslak: Homer, hey, you should not drink to forget your problems.\n",
      "Barney_Gumble: Yeah, you should only drink to enhance your social skills.\n",
      "\n",
      "\n"
     ]
    }
   ],
   "source": [
    "view_sentence_range = (0, 10)\n",
    "\n",
    "\"\"\"\n",
    "DON'T MODIFY ANYTHING IN THIS CELL\n",
    "\"\"\"\n",
    "import numpy as np\n",
    "\n",
    "print('Dataset Stats')\n",
    "print('Roughly the number of unique words: {}'.format(len({word: None for word in text.split()})))\n",
    "scenes = text.split('\\n\\n')\n",
    "print('Number of scenes: {}'.format(len(scenes)))\n",
    "sentence_count_scene = [scene.count('\\n') for scene in scenes]\n",
    "print('Average number of sentences in each scene: {}'.format(np.average(sentence_count_scene)))\n",
    "\n",
    "sentences = [sentence for scene in scenes for sentence in scene.split('\\n')]\n",
    "print('Number of lines: {}'.format(len(sentences)))\n",
    "word_count_sentence = [len(sentence.split()) for sentence in sentences]\n",
    "print('Average number of words in each line: {}'.format(np.average(word_count_sentence)))\n",
    "\n",
    "print()\n",
    "print('The sentences {} to {}:'.format(*view_sentence_range))\n",
    "print('\\n'.join(text.split('\\n')[view_sentence_range[0]:view_sentence_range[1]]))"
   ]
  },
  {
   "cell_type": "code",
   "execution_count": 3,
   "metadata": {},
   "outputs": [
    {
     "name": "stdout",
     "output_type": "stream",
     "text": [
      "Moe_Szyslak: (INTO PHONE) Moe's Tavern. Where the elite meet to drink.\n",
      "Bart_Simp\n",
      "['Moe_Szyslak:', '(INTO', 'PHONE)', \"Moe's\", 'Tavern.', 'Where', 'the', 'elite', 'meet', 'to']\n"
     ]
    }
   ],
   "source": [
    "print(text[:80])\n",
    "print(text.split()[:10])"
   ]
  },
  {
   "cell_type": "markdown",
   "metadata": {},
   "source": [
    "## Implement Preprocessing Functions\n",
    "The first thing to do to any dataset is preprocessing.  Implement the following preprocessing functions below:\n",
    "- Lookup Table\n",
    "- Tokenize Punctuation\n",
    "\n",
    "### Lookup Table\n",
    "To create a word embedding, you first need to transform the words to ids.  In this function, create two dictionaries:\n",
    "- Dictionary to go from the words to an id, we'll call `vocab_to_int`\n",
    "- Dictionary to go from the id to word, we'll call `int_to_vocab`\n",
    "\n",
    "Return these dictionaries in the following tuple `(vocab_to_int, int_to_vocab)`"
   ]
  },
  {
   "cell_type": "code",
   "execution_count": 4,
   "metadata": {},
   "outputs": [
    {
     "name": "stdout",
     "output_type": "stream",
     "text": [
      "Tests Passed\n"
     ]
    }
   ],
   "source": [
    "import numpy as np\n",
    "import problem_unittests as tests\n",
    "\n",
    "text = text.split()\n",
    "def create_lookup_tables(text):\n",
    "    \"\"\"\n",
    "    Create lookup tables for vocabulary\n",
    "    :param text: The text of tv scripts split into words\n",
    "    :return: A tuple of dicts (vocab_to_int, int_to_vocab)\n",
    "    \"\"\"\n",
    "    # TODO: Implement Function\n",
    "#     words = text.split()\n",
    "    unique_words = sorted(set(text))\n",
    "    vocab_to_int = {w:ii for ii,w in enumerate(unique_words)}\n",
    "    int_to_vocab = {vocab_to_int[w]:w for w in unique_words}\n",
    "    \n",
    "    return vocab_to_int, int_to_vocab\n",
    "\n",
    "# words = text.split()\n",
    "# unique_words = sorted(set(words))\n",
    "# vocab_to_int = {w:ii for ii,w in enumerate(unique_words)}\n",
    "# int_to_vocab = {vocab_to_int[w]:w for w in unique_words}\n",
    "# # print(vocab_to_int['the'])\n",
    "# print(int_to_vocab[115])\n",
    "\n",
    "\n",
    "\"\"\"\n",
    "DON'T MODIFY ANYTHING IN THIS CELL THAT IS BELOW THIS LINE\n",
    "\"\"\"\n",
    "tests.test_create_lookup_tables(create_lookup_tables)"
   ]
  },
  {
   "cell_type": "markdown",
   "metadata": {},
   "source": [
    "### Tokenize Punctuation\n",
    "We'll be splitting the script into a word array using spaces as delimiters.  However, punctuations like periods and exclamation marks make it hard for the neural network to distinguish between the word \"bye\" and \"bye!\".\n",
    "\n",
    "Implement the function `token_lookup` to return a dict that will be used to tokenize symbols like \"!\" into \"||Exclamation_Mark||\".  Create a dictionary for the following symbols where the symbol is the key and value is the token:\n",
    "- Period ( . )\n",
    "- Comma ( , )\n",
    "- Quotation Mark ( \" )\n",
    "- Semicolon ( ; )\n",
    "- Exclamation mark ( ! )\n",
    "- Question mark ( ? )\n",
    "- Left Parentheses ( ( )\n",
    "- Right Parentheses ( ) )\n",
    "- Dash ( -- )\n",
    "- Return ( \\n )\n",
    "\n",
    "This dictionary will be used to token the symbols and add the delimiter (space) around it.  This separates the symbols as it's own word, making it easier for the neural network to predict on the next word. Make sure you don't use a token that could be confused as a word. Instead of using the token \"dash\", try using something like \"||dash||\"."
   ]
  },
  {
   "cell_type": "code",
   "execution_count": 5,
   "metadata": {},
   "outputs": [
    {
     "name": "stdout",
     "output_type": "stream",
     "text": [
      "Tests Passed\n"
     ]
    }
   ],
   "source": [
    "def token_lookup():\n",
    "    \"\"\"\n",
    "    Generate a dict to turn punctuation into a token.\n",
    "    :return: Tokenize dictionary where the key is the punctuation and the value is the token\n",
    "    \"\"\"\n",
    "    # TODO: Implement Function\n",
    "    token_dict = {'.':'||Period||', ',':'||Comma||', '\"':'||Quotation_Mark||', ';':'||Semicolon||',\n",
    "                 '!':'||Exclamation_Mark||', '?':'||Question_Mark||', '(':'||Left_Parentheses||',\n",
    "                 ')':'||Right_Parentheses||', '--':'||Dash||', '\\n':'||Return||'}\n",
    "    \n",
    "    return token_dict\n",
    "\n",
    "\"\"\"\n",
    "DON'T MODIFY ANYTHING IN THIS CELL THAT IS BELOW THIS LINE\n",
    "\"\"\"\n",
    "tests.test_tokenize(token_lookup)"
   ]
  },
  {
   "cell_type": "markdown",
   "metadata": {},
   "source": [
    "## Preprocess all the data and save it\n",
    "Running the code cell below will preprocess all the data and save it to file."
   ]
  },
  {
   "cell_type": "code",
   "execution_count": 6,
   "metadata": {},
   "outputs": [],
   "source": [
    "\"\"\"\n",
    "DON'T MODIFY ANYTHING IN THIS CELL\n",
    "\"\"\"\n",
    "# Preprocess Training, Validation, and Testing Data\n",
    "helper.preprocess_and_save_data(data_dir, token_lookup, create_lookup_tables)"
   ]
  },
  {
   "cell_type": "markdown",
   "metadata": {},
   "source": [
    "# Check Point\n",
    "This is your first checkpoint. If you ever decide to come back to this notebook or have to restart the notebook, you can start from here. The preprocessed data has been saved to disk."
   ]
  },
  {
   "cell_type": "code",
   "execution_count": 7,
   "metadata": {},
   "outputs": [],
   "source": [
    "\"\"\"\n",
    "DON'T MODIFY ANYTHING IN THIS CELL\n",
    "\"\"\"\n",
    "import helper\n",
    "import numpy as np\n",
    "import problem_unittests as tests\n",
    "\n",
    "int_text, vocab_to_int, int_to_vocab, token_dict = helper.load_preprocess()"
   ]
  },
  {
   "cell_type": "code",
   "execution_count": 8,
   "metadata": {},
   "outputs": [
    {
     "name": "stdout",
     "output_type": "stream",
     "text": [
      "69100\n",
      "6779\n",
      "6779\n",
      "tavern\n"
     ]
    }
   ],
   "source": [
    "print(len(int_text))\n",
    "print(len(vocab_to_int))\n",
    "print(len(int_to_vocab))\n",
    "print(int_to_vocab[5884])"
   ]
  },
  {
   "cell_type": "markdown",
   "metadata": {},
   "source": [
    "## Build the Neural Network\n",
    "You'll build the components necessary to build a RNN by implementing the following functions below:\n",
    "- get_inputs\n",
    "- get_init_cell\n",
    "- get_embed\n",
    "- build_rnn\n",
    "- build_nn\n",
    "- get_batches\n",
    "\n",
    "### Check the Version of TensorFlow and Access to GPU"
   ]
  },
  {
   "cell_type": "code",
   "execution_count": 9,
   "metadata": {},
   "outputs": [
    {
     "name": "stdout",
     "output_type": "stream",
     "text": [
      "TensorFlow Version: 1.11.0\n",
      "Default GPU Device: /device:GPU:0\n"
     ]
    }
   ],
   "source": [
    "\"\"\"\n",
    "DON'T MODIFY ANYTHING IN THIS CELL\n",
    "\"\"\"\n",
    "from distutils.version import LooseVersion\n",
    "import warnings\n",
    "import tensorflow as tf\n",
    "\n",
    "# Check TensorFlow Version\n",
    "assert LooseVersion(tf.__version__) >= LooseVersion('1.3'), 'Please use TensorFlow version 1.3 or newer'\n",
    "print('TensorFlow Version: {}'.format(tf.__version__))\n",
    "\n",
    "# Check for a GPU\n",
    "if not tf.test.gpu_device_name():\n",
    "    warnings.warn('No GPU found. Please use a GPU to train your neural network.')\n",
    "else:\n",
    "    print('Default GPU Device: {}'.format(tf.test.gpu_device_name()))"
   ]
  },
  {
   "cell_type": "markdown",
   "metadata": {},
   "source": [
    "### Input\n",
    "Implement the `get_inputs()` function to create TF Placeholders for the Neural Network.  It should create the following placeholders:\n",
    "- Input text placeholder named \"input\" using the [TF Placeholder](https://www.tensorflow.org/api_docs/python/tf/placeholder) `name` parameter.\n",
    "- Targets placeholder\n",
    "- Learning Rate placeholder\n",
    "\n",
    "Return the placeholders in the following tuple `(Input, Targets, LearningRate)`"
   ]
  },
  {
   "cell_type": "code",
   "execution_count": 10,
   "metadata": {},
   "outputs": [
    {
     "name": "stdout",
     "output_type": "stream",
     "text": [
      "Tests Passed\n"
     ]
    }
   ],
   "source": [
    "def get_inputs():\n",
    "    \"\"\"\n",
    "    Create TF Placeholders for input, targets, and learning rate.\n",
    "    :return: Tuple (input, targets, learning rate)\n",
    "    \"\"\"\n",
    "    # TODO: Implement Function\n",
    "    Input_ = tf.placeholder(dtype=tf.int32, shape=(None, None), name='input')\n",
    "    Targets_ = tf.placeholder(dtype=tf.int32, shape=(None, None))\n",
    "    LearningRate = tf.placeholder(dtype=tf.float32)\n",
    "    \n",
    "    return Input_, Targets_, LearningRate\n",
    "\n",
    "\n",
    "\"\"\"\n",
    "DON'T MODIFY ANYTHING IN THIS CELL THAT IS BELOW THIS LINE\n",
    "\"\"\"\n",
    "tests.test_get_inputs(get_inputs)"
   ]
  },
  {
   "cell_type": "markdown",
   "metadata": {},
   "source": [
    "### Build RNN Cell and Initialize\n",
    "Stack one or more [`BasicLSTMCells`](https://www.tensorflow.org/api_docs/python/tf/contrib/rnn/BasicLSTMCell) in a [`MultiRNNCell`](https://www.tensorflow.org/api_docs/python/tf/contrib/rnn/MultiRNNCell).\n",
    "- The Rnn size should be set using `rnn_size`\n",
    "- Initalize Cell State using the MultiRNNCell's [`zero_state()`](https://www.tensorflow.org/api_docs/python/tf/contrib/rnn/MultiRNNCell#zero_state) function\n",
    "    - Apply the name \"initial_state\" to the initial state using [`tf.identity()`](https://www.tensorflow.org/api_docs/python/tf/identity)\n",
    "\n",
    "Return the cell and initial state in the following tuple `(Cell, InitialState)`"
   ]
  },
  {
   "cell_type": "code",
   "execution_count": 48,
   "metadata": {},
   "outputs": [
    {
     "name": "stdout",
     "output_type": "stream",
     "text": [
      "Tests Passed\n"
     ]
    }
   ],
   "source": [
    "def get_init_cell(batch_size, rnn_size):\n",
    "    \"\"\"\n",
    "    Create an RNN Cell and initialize it.\n",
    "    :param batch_size: Size of batches\n",
    "    :param rnn_size: Size of RNNs (a tuple with the number of units for each layer of the RNN)\n",
    "    :return: Tuple (cell, initialize state)\n",
    "    \"\"\"\n",
    "    # TODO: Implement Function\n",
    "    n_rnn_layers = 1\n",
    "    cells = [tf.nn.rnn_cell.LSTMCell(num_units=rnn_size, name='basic_lstm_cell') for _ in range(n_rnn_layers)]\n",
    "    stacked_rnn_cells = tf.nn.rnn_cell.MultiRNNCell(cells)\n",
    "    \n",
    "    InitialState = tf.identity(stacked_rnn_cells.zero_state(batch_size, tf.int32), name='initial_state')\n",
    "    \n",
    "    return stacked_rnn_cells, InitialState\n",
    "\n",
    "\n",
    "\"\"\"\n",
    "DON'T MODIFY ANYTHING IN THIS CELL THAT IS BELOW THIS LINE\n",
    "\"\"\"\n",
    "tests.test_get_init_cell(get_init_cell)"
   ]
  },
  {
   "cell_type": "markdown",
   "metadata": {},
   "source": [
    "### Word Embedding\n",
    "Apply embedding to `input_data` using TensorFlow.  Return the embedded sequence."
   ]
  },
  {
   "cell_type": "code",
   "execution_count": 49,
   "metadata": {},
   "outputs": [
    {
     "name": "stdout",
     "output_type": "stream",
     "text": [
      "Tests Passed\n"
     ]
    }
   ],
   "source": [
    "def get_embed(input_data, vocab_size, embed_dim):\n",
    "    \"\"\"\n",
    "    Create embedding for <input_data>.\n",
    "    :param input_data: TF placeholder for text input.\n",
    "    :param vocab_size: Number of words in vocabulary.\n",
    "    :param embed_dim: Number of embedding dimensions\n",
    "    :return: Embedded input.\n",
    "    \"\"\"\n",
    "    # TODO: Implement Function\n",
    "    embeddings = tf.get_variable(name='embeddings', initializer=tf.random_uniform((vocab_size, embed_dim), -1, 1))\n",
    "    embedded_input = tf.nn.embedding_lookup(embeddings, input_data)\n",
    "    \n",
    "    return embedded_input\n",
    "\n",
    "\n",
    "\"\"\"\n",
    "DON'T MODIFY ANYTHING IN THIS CELL THAT IS BELOW THIS LINE\n",
    "\"\"\"\n",
    "tests.test_get_embed(get_embed)"
   ]
  },
  {
   "cell_type": "markdown",
   "metadata": {},
   "source": [
    "### Build RNN\n",
    "You created a RNN Cell in the `get_init_cell()` function.  Time to use the cell to create a RNN.\n",
    "- Build the RNN using the [`tf.nn.dynamic_rnn()`](https://www.tensorflow.org/api_docs/python/tf/nn/dynamic_rnn)\n",
    " - Apply the name \"final_state\" to the final state using [`tf.identity()`](https://www.tensorflow.org/api_docs/python/tf/identity)\n",
    "\n",
    "Return the outputs and final_state state in the following tuple `(Outputs, FinalState)` "
   ]
  },
  {
   "cell_type": "code",
   "execution_count": 50,
   "metadata": {},
   "outputs": [
    {
     "name": "stdout",
     "output_type": "stream",
     "text": [
      "Tests Passed\n"
     ]
    }
   ],
   "source": [
    "def build_rnn(cell, inputs):\n",
    "    \"\"\"\n",
    "    Create a RNN using a RNN Cell\n",
    "    :param cell: RNN Cell\n",
    "    :param inputs: Input text data\n",
    "    :return: Tuple (Outputs, Final State)\n",
    "    \"\"\"\n",
    "    # TODO: Implement Function\n",
    "    Outputs, FS = tf.nn.dynamic_rnn(cell=cell, inputs=inputs, dtype=tf.float32)\n",
    "    FinalState = tf.identity(FS, name='final_state')\n",
    "      \n",
    "    return Outputs, FinalState\n",
    "\n",
    "\n",
    "\"\"\"\n",
    "DON'T MODIFY ANYTHING IN THIS CELL THAT IS BELOW THIS LINE\n",
    "\"\"\"\n",
    "tests.test_build_rnn(build_rnn)"
   ]
  },
  {
   "cell_type": "markdown",
   "metadata": {},
   "source": [
    "### Build the Neural Network\n",
    "Apply the functions you implemented above to:\n",
    "- Apply embedding to `input_data` using your `get_embed(input_data, vocab_size, embed_dim)` function.\n",
    "- Build RNN using `cell` and your `build_rnn(cell, inputs)` function.\n",
    "- Apply a fully connected layer with a linear activation and `vocab_size` as the number of outputs.\n",
    "\n",
    "Return the logits and final state in the following tuple (Logits, FinalState) "
   ]
  },
  {
   "cell_type": "code",
   "execution_count": 51,
   "metadata": {},
   "outputs": [
    {
     "name": "stdout",
     "output_type": "stream",
     "text": [
      "Tests Passed\n"
     ]
    }
   ],
   "source": [
    "def build_nn(cell, rnn_size, input_data, vocab_size, embed_dim):\n",
    "    \"\"\"\n",
    "    Build part of the neural network\n",
    "    :param cell: RNN cell\n",
    "    :param rnn_size: Size of rnns\n",
    "    :param input_data: Input data\n",
    "    :param vocab_size: Vocabulary size\n",
    "    :param embed_dim: Number of embedding dimensions\n",
    "    :return: Tuple (Logits, FinalState)\n",
    "    \"\"\"\n",
    "    # TODO: Implement Function\n",
    "    embedded_input = get_embed(input_data, vocab_size, embed_dim)\n",
    "    rnn_outputs, FinalState = build_rnn(cell, embedded_input)\n",
    "    Logits = tf.contrib.layers.fully_connected(rnn_outputs, vocab_size, activation_fn=None)\n",
    "    \n",
    "    return Logits, FinalState\n",
    "\n",
    "\n",
    "\"\"\"\n",
    "DON'T MODIFY ANYTHING IN THIS CELL THAT IS BELOW THIS LINE\n",
    "\"\"\"\n",
    "tests.test_build_nn(build_nn)"
   ]
  },
  {
   "cell_type": "markdown",
   "metadata": {},
   "source": [
    "### Batches\n",
    "Implement `get_batches` to create batches of input and targets using `int_text`.  The batches should be a Numpy array with the shape `(number of batches, 2, batch size, sequence length)`. Each batch contains two elements:\n",
    "- The first element is a single batch of **input** with the shape `[batch size, sequence length]`\n",
    "- The second element is a single batch of **targets** with the shape `[batch size, sequence length]`\n",
    "\n",
    "If you can't fill the last batch with enough data, drop the last batch.\n",
    "\n",
    "For example, `get_batches([1, 2, 3, 4, 5, 6, 7, 8, 9, 10, 11, 12, 13, 14, 15, 16, 17, 18, 19, 20], 3, 2)` would return a Numpy array of the following:\n",
    "```\n",
    "[\n",
    "  # First Batch\n",
    "  [\n",
    "    # Batch of Input\n",
    "    [[ 1  2], [ 7  8], [13 14]]\n",
    "    # Batch of targets\n",
    "    [[ 2  3], [ 8  9], [14 15]]\n",
    "  ]\n",
    "\n",
    "  # Second Batch\n",
    "  [\n",
    "    # Batch of Input\n",
    "    [[ 3  4], [ 9 10], [15 16]]\n",
    "    # Batch of targets\n",
    "    [[ 4  5], [10 11], [16 17]]\n",
    "  ]\n",
    "\n",
    "  # Third Batch\n",
    "  [\n",
    "    # Batch of Input\n",
    "    [[ 5  6], [11 12], [17 18]]\n",
    "    # Batch of targets\n",
    "    [[ 6  7], [12 13], [18  1]]\n",
    "  ]\n",
    "]\n",
    "```\n",
    "\n",
    "Notice that the last target value in the last batch is the first input value of the first batch. In this case, `1`. This is a common technique used when creating sequence batches, although it is rather unintuitive."
   ]
  },
  {
   "cell_type": "code",
   "execution_count": 52,
   "metadata": {},
   "outputs": [
    {
     "name": "stdout",
     "output_type": "stream",
     "text": [
      "Tests Passed\n"
     ]
    }
   ],
   "source": [
    "def get_batches(int_text, batch_size, seq_length):\n",
    "    \"\"\"\n",
    "    Return batches of input and target\n",
    "    :param int_text: Text with the words replaced by their ids\n",
    "    :param batch_size: The size of batch\n",
    "    :param seq_length: The length of sequence\n",
    "    :return: Batches as a Numpy array\n",
    "    \"\"\"\n",
    "    # TODO: Implement Function\n",
    "    int_text = np.asarray(int_text, dtype=np.int32)\n",
    "    \n",
    "    # number of words each batch will contain\n",
    "    words_in_one_batch = batch_size*seq_length\n",
    "    \n",
    "    # total number of batches I can fit in my data\n",
    "    n_batches = len(int_text) // words_in_one_batch\n",
    "    moe_batches = -999*np.ones((n_batches, 2, batch_size, seq_length), dtype=np.int32) # init batches np array\n",
    "\n",
    "    for n in range(n_batches):\n",
    "        for j in range(batch_size):\n",
    "            i_start = j*n_batches*seq_length + n*seq_length\n",
    "            i_end = i_start + seq_length\n",
    "            # inputs (second index is 0)\n",
    "            moe_batches[n,0,j,:] = int_text[i_start:i_end]\n",
    "            # labels (second index is 1)\n",
    "            if i_end+1 > words_in_one_batch*n_batches:\n",
    "                moe_batches[n,1,j,:] = np.append(int_text[i_start+1:i_end], int_text[0])\n",
    "            else:\n",
    "                moe_batches[n,1,j,:] = int_text[i_start+1:i_end+1]\n",
    "    \n",
    "    return moe_batches\n",
    "\n",
    "batches = get_batches(int_text, batch_size, seq_length)\n",
    "\n",
    "\"\"\"\n",
    "DON'T MODIFY ANYTHING IN THIS CELL THAT IS BELOW THIS LINE\n",
    "\"\"\"\n",
    "tests.test_get_batches(get_batches)"
   ]
  },
  {
   "cell_type": "markdown",
   "metadata": {},
   "source": [
    "## Neural Network Training\n",
    "### Hyperparameters\n",
    "Tune the following parameters:\n",
    "\n",
    "- Set `num_epochs` to the number of epochs.\n",
    "- Set `batch_size` to the batch size.\n",
    "- Set `rnn_size` to the size of the RNNs.\n",
    "- Set `embed_dim` to the size of the embedding.\n",
    "- Set `seq_length` to the length of sequence.\n",
    "- Set `learning_rate` to the learning rate.\n",
    "- Set `show_every_n_batches` to the number of batches the neural network should print progress."
   ]
  },
  {
   "cell_type": "code",
   "execution_count": 64,
   "metadata": {},
   "outputs": [],
   "source": [
    "# Number of Epochs\n",
    "num_epochs = 80\n",
    "# Batch Size\n",
    "batch_size = 10\n",
    "# RNN Size\n",
    "rnn_size = 256\n",
    "# Embedding Dimension Size\n",
    "embed_dim = 300\n",
    "# Sequence Length\n",
    "seq_length = 40\n",
    "# Learning Rate\n",
    "learning_rate = 0.01\n",
    "# Show stats for every n number of batches\n",
    "show_every_n_batches = 34\n",
    "\n",
    "\"\"\"\n",
    "DON'T MODIFY ANYTHING IN THIS CELL THAT IS BELOW THIS LINE\n",
    "\"\"\"\n",
    "save_dir = './save'"
   ]
  },
  {
   "cell_type": "markdown",
   "metadata": {},
   "source": [
    "### Build the Graph\n",
    "Build the graph using the neural network you implemented."
   ]
  },
  {
   "cell_type": "code",
   "execution_count": 66,
   "metadata": {},
   "outputs": [],
   "source": [
    "\"\"\"\n",
    "DON'T MODIFY ANYTHING IN THIS CELL\n",
    "\"\"\"\n",
    "from tensorflow.contrib import seq2seq\n",
    "\n",
    "train_graph = tf.Graph()\n",
    "with train_graph.as_default():\n",
    "    vocab_size = len(int_to_vocab)\n",
    "    input_text, targets, lr = get_inputs()\n",
    "    input_data_shape = tf.shape(input_text)\n",
    "    cell, initial_state = get_init_cell(input_data_shape[0], rnn_size)\n",
    "    logits, final_state = build_nn(cell, rnn_size, input_text, vocab_size, embed_dim)\n",
    "\n",
    "    # Probabilities for generating words\n",
    "    probs = tf.nn.softmax(logits, name='probs')\n",
    "\n",
    "    # Loss function\n",
    "    cost = seq2seq.sequence_loss(\n",
    "        logits,\n",
    "        targets,\n",
    "        tf.ones([input_data_shape[0], input_data_shape[1]]))\n",
    "\n",
    "    # Optimizer\n",
    "    optimizer = tf.train.AdamOptimizer(lr)\n",
    "\n",
    "    # Gradient Clipping\n",
    "    gradients = optimizer.compute_gradients(cost)\n",
    "    capped_gradients = [(tf.clip_by_value(grad, -1., 1.), var) for grad, var in gradients if grad is not None]\n",
    "    train_op = optimizer.apply_gradients(capped_gradients)"
   ]
  },
  {
   "cell_type": "markdown",
   "metadata": {},
   "source": [
    "## Train\n",
    "Train the neural network on the preprocessed data.  If you have a hard time getting a good loss, check the [forums](https://discussions.udacity.com/) to see if anyone is having the same problem."
   ]
  },
  {
   "cell_type": "code",
   "execution_count": 67,
   "metadata": {},
   "outputs": [
    {
     "name": "stdout",
     "output_type": "stream",
     "text": [
      "Epoch   0 Batch    0/172   train_loss = 8.821\n",
      "Epoch   0 Batch   34/172   train_loss = 5.888\n",
      "Epoch   0 Batch   68/172   train_loss = 5.458\n",
      "Epoch   0 Batch  102/172   train_loss = 4.865\n",
      "Epoch   0 Batch  136/172   train_loss = 4.881\n",
      "Epoch   0 Batch  170/172   train_loss = 4.929\n",
      "Epoch   1 Batch   32/172   train_loss = 4.509\n",
      "Epoch   1 Batch   66/172   train_loss = 4.515\n",
      "Epoch   1 Batch  100/172   train_loss = 4.442\n",
      "Epoch   1 Batch  134/172   train_loss = 4.155\n",
      "Epoch   1 Batch  168/172   train_loss = 3.897\n",
      "Epoch   2 Batch   30/172   train_loss = 3.855\n",
      "Epoch   2 Batch   64/172   train_loss = 4.000\n",
      "Epoch   2 Batch   98/172   train_loss = 3.666\n",
      "Epoch   2 Batch  132/172   train_loss = 3.488\n",
      "Epoch   2 Batch  166/172   train_loss = 3.590\n",
      "Epoch   3 Batch   28/172   train_loss = 3.569\n",
      "Epoch   3 Batch   62/172   train_loss = 3.248\n",
      "Epoch   3 Batch   96/172   train_loss = 3.285\n",
      "Epoch   3 Batch  130/172   train_loss = 3.152\n",
      "Epoch   3 Batch  164/172   train_loss = 3.132\n",
      "Epoch   4 Batch   26/172   train_loss = 3.100\n",
      "Epoch   4 Batch   60/172   train_loss = 3.205\n",
      "Epoch   4 Batch   94/172   train_loss = 3.096\n",
      "Epoch   4 Batch  128/172   train_loss = 2.871\n",
      "Epoch   4 Batch  162/172   train_loss = 2.842\n",
      "Epoch   5 Batch   24/172   train_loss = 2.775\n",
      "Epoch   5 Batch   58/172   train_loss = 2.994\n",
      "Epoch   5 Batch   92/172   train_loss = 2.884\n",
      "Epoch   5 Batch  126/172   train_loss = 2.567\n",
      "Epoch   5 Batch  160/172   train_loss = 2.460\n",
      "Epoch   6 Batch   22/172   train_loss = 2.492\n",
      "Epoch   6 Batch   56/172   train_loss = 2.461\n",
      "Epoch   6 Batch   90/172   train_loss = 2.657\n",
      "Epoch   6 Batch  124/172   train_loss = 2.480\n",
      "Epoch   6 Batch  158/172   train_loss = 2.255\n",
      "Epoch   7 Batch   20/172   train_loss = 2.236\n",
      "Epoch   7 Batch   54/172   train_loss = 2.308\n",
      "Epoch   7 Batch   88/172   train_loss = 2.240\n",
      "Epoch   7 Batch  122/172   train_loss = 2.209\n",
      "Epoch   7 Batch  156/172   train_loss = 2.387\n",
      "Epoch   8 Batch   18/172   train_loss = 2.196\n",
      "Epoch   8 Batch   52/172   train_loss = 2.114\n",
      "Epoch   8 Batch   86/172   train_loss = 2.118\n",
      "Epoch   8 Batch  120/172   train_loss = 1.982\n",
      "Epoch   8 Batch  154/172   train_loss = 2.190\n",
      "Epoch   9 Batch   16/172   train_loss = 1.960\n",
      "Epoch   9 Batch   50/172   train_loss = 1.968\n",
      "Epoch   9 Batch   84/172   train_loss = 1.924\n",
      "Epoch   9 Batch  118/172   train_loss = 1.990\n",
      "Epoch   9 Batch  152/172   train_loss = 1.766\n",
      "Epoch  10 Batch   14/172   train_loss = 1.725\n",
      "Epoch  10 Batch   48/172   train_loss = 1.979\n",
      "Epoch  10 Batch   82/172   train_loss = 1.687\n",
      "Epoch  10 Batch  116/172   train_loss = 1.766\n",
      "Epoch  10 Batch  150/172   train_loss = 1.570\n",
      "Epoch  11 Batch   12/172   train_loss = 1.854\n",
      "Epoch  11 Batch   46/172   train_loss = 1.639\n",
      "Epoch  11 Batch   80/172   train_loss = 1.629\n",
      "Epoch  11 Batch  114/172   train_loss = 1.876\n",
      "Epoch  11 Batch  148/172   train_loss = 1.626\n",
      "Epoch  12 Batch   10/172   train_loss = 1.586\n",
      "Epoch  12 Batch   44/172   train_loss = 1.619\n",
      "Epoch  12 Batch   78/172   train_loss = 1.622\n",
      "Epoch  12 Batch  112/172   train_loss = 1.648\n",
      "Epoch  12 Batch  146/172   train_loss = 1.831\n",
      "Epoch  13 Batch    8/172   train_loss = 1.499\n",
      "Epoch  13 Batch   42/172   train_loss = 1.477\n",
      "Epoch  13 Batch   76/172   train_loss = 1.582\n",
      "Epoch  13 Batch  110/172   train_loss = 1.389\n",
      "Epoch  13 Batch  144/172   train_loss = 1.472\n",
      "Epoch  14 Batch    6/172   train_loss = 1.557\n",
      "Epoch  14 Batch   40/172   train_loss = 1.645\n",
      "Epoch  14 Batch   74/172   train_loss = 1.565\n",
      "Epoch  14 Batch  108/172   train_loss = 1.463\n",
      "Epoch  14 Batch  142/172   train_loss = 1.511\n",
      "Epoch  15 Batch    4/172   train_loss = 1.487\n",
      "Epoch  15 Batch   38/172   train_loss = 1.439\n",
      "Epoch  15 Batch   72/172   train_loss = 1.329\n",
      "Epoch  15 Batch  106/172   train_loss = 1.567\n",
      "Epoch  15 Batch  140/172   train_loss = 1.467\n",
      "Epoch  16 Batch    2/172   train_loss = 1.286\n",
      "Epoch  16 Batch   36/172   train_loss = 1.301\n",
      "Epoch  16 Batch   70/172   train_loss = 1.300\n",
      "Epoch  16 Batch  104/172   train_loss = 1.266\n",
      "Epoch  16 Batch  138/172   train_loss = 1.562\n",
      "Epoch  17 Batch    0/172   train_loss = 1.293\n",
      "Epoch  17 Batch   34/172   train_loss = 1.255\n",
      "Epoch  17 Batch   68/172   train_loss = 1.245\n",
      "Epoch  17 Batch  102/172   train_loss = 1.419\n",
      "Epoch  17 Batch  136/172   train_loss = 1.427\n",
      "Epoch  17 Batch  170/172   train_loss = 1.270\n",
      "Epoch  18 Batch   32/172   train_loss = 1.334\n",
      "Epoch  18 Batch   66/172   train_loss = 1.238\n",
      "Epoch  18 Batch  100/172   train_loss = 1.320\n",
      "Epoch  18 Batch  134/172   train_loss = 1.370\n",
      "Epoch  18 Batch  168/172   train_loss = 1.336\n",
      "Epoch  19 Batch   30/172   train_loss = 1.300\n",
      "Epoch  19 Batch   64/172   train_loss = 1.324\n",
      "Epoch  19 Batch   98/172   train_loss = 1.256\n",
      "Epoch  19 Batch  132/172   train_loss = 1.347\n",
      "Epoch  19 Batch  166/172   train_loss = 1.143\n",
      "Epoch  20 Batch   28/172   train_loss = 1.365\n",
      "Epoch  20 Batch   62/172   train_loss = 1.233\n",
      "Epoch  20 Batch   96/172   train_loss = 1.207\n",
      "Epoch  20 Batch  130/172   train_loss = 1.251\n",
      "Epoch  20 Batch  164/172   train_loss = 1.200\n",
      "Epoch  21 Batch   26/172   train_loss = 1.247\n",
      "Epoch  21 Batch   60/172   train_loss = 1.332\n",
      "Epoch  21 Batch   94/172   train_loss = 1.214\n",
      "Epoch  21 Batch  128/172   train_loss = 1.312\n",
      "Epoch  21 Batch  162/172   train_loss = 1.211\n",
      "Epoch  22 Batch   24/172   train_loss = 1.216\n",
      "Epoch  22 Batch   58/172   train_loss = 1.266\n",
      "Epoch  22 Batch   92/172   train_loss = 1.345\n",
      "Epoch  22 Batch  126/172   train_loss = 1.001\n",
      "Epoch  22 Batch  160/172   train_loss = 1.079\n",
      "Epoch  23 Batch   22/172   train_loss = 1.155\n",
      "Epoch  23 Batch   56/172   train_loss = 1.130\n",
      "Epoch  23 Batch   90/172   train_loss = 1.311\n",
      "Epoch  23 Batch  124/172   train_loss = 1.116\n",
      "Epoch  23 Batch  158/172   train_loss = 1.253\n",
      "Epoch  24 Batch   20/172   train_loss = 1.177\n",
      "Epoch  24 Batch   54/172   train_loss = 1.096\n",
      "Epoch  24 Batch   88/172   train_loss = 1.147\n",
      "Epoch  24 Batch  122/172   train_loss = 1.202\n",
      "Epoch  24 Batch  156/172   train_loss = 1.310\n",
      "Epoch  25 Batch   18/172   train_loss = 1.138\n",
      "Epoch  25 Batch   52/172   train_loss = 1.126\n",
      "Epoch  25 Batch   86/172   train_loss = 1.214\n",
      "Epoch  25 Batch  120/172   train_loss = 1.081\n",
      "Epoch  25 Batch  154/172   train_loss = 1.218\n",
      "Epoch  26 Batch   16/172   train_loss = 1.204\n",
      "Epoch  26 Batch   50/172   train_loss = 1.039\n",
      "Epoch  26 Batch   84/172   train_loss = 1.155\n",
      "Epoch  26 Batch  118/172   train_loss = 1.024\n",
      "Epoch  26 Batch  152/172   train_loss = 0.983\n",
      "Epoch  27 Batch   14/172   train_loss = 1.138\n",
      "Epoch  27 Batch   48/172   train_loss = 1.162\n",
      "Epoch  27 Batch   82/172   train_loss = 0.957\n",
      "Epoch  27 Batch  116/172   train_loss = 1.018\n",
      "Epoch  27 Batch  150/172   train_loss = 0.812\n",
      "Epoch  28 Batch   12/172   train_loss = 1.140\n",
      "Epoch  28 Batch   46/172   train_loss = 1.032\n",
      "Epoch  28 Batch   80/172   train_loss = 0.920\n",
      "Epoch  28 Batch  114/172   train_loss = 1.104\n",
      "Epoch  28 Batch  148/172   train_loss = 0.980\n",
      "Epoch  29 Batch   10/172   train_loss = 0.931\n",
      "Epoch  29 Batch   44/172   train_loss = 1.061\n",
      "Epoch  29 Batch   78/172   train_loss = 1.097\n",
      "Epoch  29 Batch  112/172   train_loss = 1.128\n",
      "Epoch  29 Batch  146/172   train_loss = 1.237\n",
      "Epoch  30 Batch    8/172   train_loss = 0.901\n",
      "Epoch  30 Batch   42/172   train_loss = 0.867\n",
      "Epoch  30 Batch   76/172   train_loss = 1.151\n",
      "Epoch  30 Batch  110/172   train_loss = 0.918\n",
      "Epoch  30 Batch  144/172   train_loss = 0.959\n",
      "Epoch  31 Batch    6/172   train_loss = 1.037\n",
      "Epoch  31 Batch   40/172   train_loss = 1.131\n",
      "Epoch  31 Batch   74/172   train_loss = 1.144\n",
      "Epoch  31 Batch  108/172   train_loss = 0.987\n",
      "Epoch  31 Batch  142/172   train_loss = 1.081\n",
      "Epoch  32 Batch    4/172   train_loss = 1.064\n",
      "Epoch  32 Batch   38/172   train_loss = 1.001\n",
      "Epoch  32 Batch   72/172   train_loss = 0.945\n",
      "Epoch  32 Batch  106/172   train_loss = 1.055\n",
      "Epoch  32 Batch  140/172   train_loss = 0.952\n",
      "Epoch  33 Batch    2/172   train_loss = 0.913\n",
      "Epoch  33 Batch   36/172   train_loss = 0.865\n",
      "Epoch  33 Batch   70/172   train_loss = 0.931\n",
      "Epoch  33 Batch  104/172   train_loss = 0.971\n",
      "Epoch  33 Batch  138/172   train_loss = 1.242\n",
      "Epoch  34 Batch    0/172   train_loss = 0.966\n",
      "Epoch  34 Batch   34/172   train_loss = 0.898\n",
      "Epoch  34 Batch   68/172   train_loss = 0.844\n",
      "Epoch  34 Batch  102/172   train_loss = 1.129\n",
      "Epoch  34 Batch  136/172   train_loss = 1.121\n",
      "Epoch  34 Batch  170/172   train_loss = 1.001\n",
      "Epoch  35 Batch   32/172   train_loss = 0.912\n"
     ]
    },
    {
     "name": "stdout",
     "output_type": "stream",
     "text": [
      "Epoch  35 Batch   66/172   train_loss = 0.929\n",
      "Epoch  35 Batch  100/172   train_loss = 1.019\n",
      "Epoch  35 Batch  134/172   train_loss = 1.134\n",
      "Epoch  35 Batch  168/172   train_loss = 1.046\n",
      "Epoch  36 Batch   30/172   train_loss = 1.020\n",
      "Epoch  36 Batch   64/172   train_loss = 1.001\n",
      "Epoch  36 Batch   98/172   train_loss = 0.999\n",
      "Epoch  36 Batch  132/172   train_loss = 0.984\n",
      "Epoch  36 Batch  166/172   train_loss = 0.914\n",
      "Epoch  37 Batch   28/172   train_loss = 1.051\n",
      "Epoch  37 Batch   62/172   train_loss = 0.968\n",
      "Epoch  37 Batch   96/172   train_loss = 0.851\n",
      "Epoch  37 Batch  130/172   train_loss = 1.075\n",
      "Epoch  37 Batch  164/172   train_loss = 0.816\n",
      "Epoch  38 Batch   26/172   train_loss = 0.902\n",
      "Epoch  38 Batch   60/172   train_loss = 0.957\n",
      "Epoch  38 Batch   94/172   train_loss = 0.903\n",
      "Epoch  38 Batch  128/172   train_loss = 1.107\n",
      "Epoch  38 Batch  162/172   train_loss = 0.867\n",
      "Epoch  39 Batch   24/172   train_loss = 0.867\n",
      "Epoch  39 Batch   58/172   train_loss = 1.010\n",
      "Epoch  39 Batch   92/172   train_loss = 0.990\n",
      "Epoch  39 Batch  126/172   train_loss = 0.798\n",
      "Epoch  39 Batch  160/172   train_loss = 0.824\n",
      "Epoch  40 Batch   22/172   train_loss = 0.806\n",
      "Epoch  40 Batch   56/172   train_loss = 1.016\n",
      "Epoch  40 Batch   90/172   train_loss = 1.276\n",
      "Epoch  40 Batch  124/172   train_loss = 0.959\n",
      "Epoch  40 Batch  158/172   train_loss = 0.931\n",
      "Epoch  41 Batch   20/172   train_loss = 0.854\n",
      "Epoch  41 Batch   54/172   train_loss = 0.918\n",
      "Epoch  41 Batch   88/172   train_loss = 0.843\n",
      "Epoch  41 Batch  122/172   train_loss = 0.971\n",
      "Epoch  41 Batch  156/172   train_loss = 1.011\n",
      "Epoch  42 Batch   18/172   train_loss = 1.036\n",
      "Epoch  42 Batch   52/172   train_loss = 0.848\n",
      "Epoch  42 Batch   86/172   train_loss = 1.079\n",
      "Epoch  42 Batch  120/172   train_loss = 0.777\n",
      "Epoch  42 Batch  154/172   train_loss = 0.960\n",
      "Epoch  43 Batch   16/172   train_loss = 1.047\n",
      "Epoch  43 Batch   50/172   train_loss = 0.947\n",
      "Epoch  43 Batch   84/172   train_loss = 1.029\n",
      "Epoch  43 Batch  118/172   train_loss = 0.883\n",
      "Epoch  43 Batch  152/172   train_loss = 0.863\n",
      "Epoch  44 Batch   14/172   train_loss = 0.880\n",
      "Epoch  44 Batch   48/172   train_loss = 0.923\n",
      "Epoch  44 Batch   82/172   train_loss = 0.769\n",
      "Epoch  44 Batch  116/172   train_loss = 0.803\n",
      "Epoch  44 Batch  150/172   train_loss = 0.654\n",
      "Epoch  45 Batch   12/172   train_loss = 0.897\n",
      "Epoch  45 Batch   46/172   train_loss = 0.904\n",
      "Epoch  45 Batch   80/172   train_loss = 0.822\n",
      "Epoch  45 Batch  114/172   train_loss = 0.870\n",
      "Epoch  45 Batch  148/172   train_loss = 0.803\n",
      "Epoch  46 Batch   10/172   train_loss = 0.800\n",
      "Epoch  46 Batch   44/172   train_loss = 0.819\n",
      "Epoch  46 Batch   78/172   train_loss = 0.862\n",
      "Epoch  46 Batch  112/172   train_loss = 0.899\n",
      "Epoch  46 Batch  146/172   train_loss = 1.090\n",
      "Epoch  47 Batch    8/172   train_loss = 0.777\n",
      "Epoch  47 Batch   42/172   train_loss = 0.698\n",
      "Epoch  47 Batch   76/172   train_loss = 0.932\n",
      "Epoch  47 Batch  110/172   train_loss = 0.754\n",
      "Epoch  47 Batch  144/172   train_loss = 0.851\n",
      "Epoch  48 Batch    6/172   train_loss = 0.872\n",
      "Epoch  48 Batch   40/172   train_loss = 1.056\n",
      "Epoch  48 Batch   74/172   train_loss = 0.935\n",
      "Epoch  48 Batch  108/172   train_loss = 0.884\n",
      "Epoch  48 Batch  142/172   train_loss = 0.915\n",
      "Epoch  49 Batch    4/172   train_loss = 0.966\n",
      "Epoch  49 Batch   38/172   train_loss = 0.982\n",
      "Epoch  49 Batch   72/172   train_loss = 0.937\n",
      "Epoch  49 Batch  106/172   train_loss = 0.978\n",
      "Epoch  49 Batch  140/172   train_loss = 0.874\n",
      "Epoch  50 Batch    2/172   train_loss = 0.938\n",
      "Epoch  50 Batch   36/172   train_loss = 0.767\n",
      "Epoch  50 Batch   70/172   train_loss = 0.870\n",
      "Epoch  50 Batch  104/172   train_loss = 1.033\n",
      "Epoch  50 Batch  138/172   train_loss = 1.088\n",
      "Epoch  51 Batch    0/172   train_loss = 0.912\n",
      "Epoch  51 Batch   34/172   train_loss = 0.874\n",
      "Epoch  51 Batch   68/172   train_loss = 0.926\n",
      "Epoch  51 Batch  102/172   train_loss = 1.092\n",
      "Epoch  51 Batch  136/172   train_loss = 1.125\n",
      "Epoch  51 Batch  170/172   train_loss = 0.969\n",
      "Epoch  52 Batch   32/172   train_loss = 0.981\n",
      "Epoch  52 Batch   66/172   train_loss = 0.833\n",
      "Epoch  52 Batch  100/172   train_loss = 0.902\n",
      "Epoch  52 Batch  134/172   train_loss = 0.912\n",
      "Epoch  52 Batch  168/172   train_loss = 1.029\n",
      "Epoch  53 Batch   30/172   train_loss = 1.048\n",
      "Epoch  53 Batch   64/172   train_loss = 1.013\n",
      "Epoch  53 Batch   98/172   train_loss = 0.873\n",
      "Epoch  53 Batch  132/172   train_loss = 1.007\n",
      "Epoch  53 Batch  166/172   train_loss = 0.827\n",
      "Epoch  54 Batch   28/172   train_loss = 1.013\n",
      "Epoch  54 Batch   62/172   train_loss = 0.937\n",
      "Epoch  54 Batch   96/172   train_loss = 0.781\n",
      "Epoch  54 Batch  130/172   train_loss = 0.961\n",
      "Epoch  54 Batch  164/172   train_loss = 0.832\n",
      "Epoch  55 Batch   26/172   train_loss = 0.879\n",
      "Epoch  55 Batch   60/172   train_loss = 0.962\n",
      "Epoch  55 Batch   94/172   train_loss = 0.845\n",
      "Epoch  55 Batch  128/172   train_loss = 0.999\n",
      "Epoch  55 Batch  162/172   train_loss = 0.812\n",
      "Epoch  56 Batch   24/172   train_loss = 0.728\n",
      "Epoch  56 Batch   58/172   train_loss = 0.914\n",
      "Epoch  56 Batch   92/172   train_loss = 0.950\n",
      "Epoch  56 Batch  126/172   train_loss = 0.733\n",
      "Epoch  56 Batch  160/172   train_loss = 0.724\n",
      "Epoch  57 Batch   22/172   train_loss = 0.815\n",
      "Epoch  57 Batch   56/172   train_loss = 0.802\n",
      "Epoch  57 Batch   90/172   train_loss = 1.017\n",
      "Epoch  57 Batch  124/172   train_loss = 0.871\n",
      "Epoch  57 Batch  158/172   train_loss = 0.912\n",
      "Epoch  58 Batch   20/172   train_loss = 0.809\n",
      "Epoch  58 Batch   54/172   train_loss = 0.820\n",
      "Epoch  58 Batch   88/172   train_loss = 0.838\n",
      "Epoch  58 Batch  122/172   train_loss = 0.861\n",
      "Epoch  58 Batch  156/172   train_loss = 0.930\n",
      "Epoch  59 Batch   18/172   train_loss = 0.799\n",
      "Epoch  59 Batch   52/172   train_loss = 0.847\n",
      "Epoch  59 Batch   86/172   train_loss = 0.975\n",
      "Epoch  59 Batch  120/172   train_loss = 0.742\n",
      "Epoch  59 Batch  154/172   train_loss = 0.851\n",
      "Epoch  60 Batch   16/172   train_loss = 0.873\n",
      "Epoch  60 Batch   50/172   train_loss = 0.825\n",
      "Epoch  60 Batch   84/172   train_loss = 0.915\n",
      "Epoch  60 Batch  118/172   train_loss = 0.731\n",
      "Epoch  60 Batch  152/172   train_loss = 0.758\n",
      "Epoch  61 Batch   14/172   train_loss = 0.806\n",
      "Epoch  61 Batch   48/172   train_loss = 0.971\n",
      "Epoch  61 Batch   82/172   train_loss = 0.653\n",
      "Epoch  61 Batch  116/172   train_loss = 0.777\n",
      "Epoch  61 Batch  150/172   train_loss = 0.641\n",
      "Epoch  62 Batch   12/172   train_loss = 0.878\n",
      "Epoch  62 Batch   46/172   train_loss = 0.809\n",
      "Epoch  62 Batch   80/172   train_loss = 0.668\n",
      "Epoch  62 Batch  114/172   train_loss = 0.858\n",
      "Epoch  62 Batch  148/172   train_loss = 0.807\n",
      "Epoch  63 Batch   10/172   train_loss = 0.756\n",
      "Epoch  63 Batch   44/172   train_loss = 0.857\n",
      "Epoch  63 Batch   78/172   train_loss = 0.841\n",
      "Epoch  63 Batch  112/172   train_loss = 0.930\n",
      "Epoch  63 Batch  146/172   train_loss = 1.066\n",
      "Epoch  64 Batch    8/172   train_loss = 0.822\n",
      "Epoch  64 Batch   42/172   train_loss = 0.646\n",
      "Epoch  64 Batch   76/172   train_loss = 0.789\n",
      "Epoch  64 Batch  110/172   train_loss = 0.775\n",
      "Epoch  64 Batch  144/172   train_loss = 0.853\n",
      "Epoch  65 Batch    6/172   train_loss = 0.830\n",
      "Epoch  65 Batch   40/172   train_loss = 0.730\n",
      "Epoch  65 Batch   74/172   train_loss = 0.905\n",
      "Epoch  65 Batch  108/172   train_loss = 0.807\n",
      "Epoch  65 Batch  142/172   train_loss = 0.790\n",
      "Epoch  66 Batch    4/172   train_loss = 0.902\n",
      "Epoch  66 Batch   38/172   train_loss = 0.935\n",
      "Epoch  66 Batch   72/172   train_loss = 0.839\n",
      "Epoch  66 Batch  106/172   train_loss = 0.955\n",
      "Epoch  66 Batch  140/172   train_loss = 0.793\n",
      "Epoch  67 Batch    2/172   train_loss = 0.846\n",
      "Epoch  67 Batch   36/172   train_loss = 0.788\n",
      "Epoch  67 Batch   70/172   train_loss = 0.767\n",
      "Epoch  67 Batch  104/172   train_loss = 0.906\n",
      "Epoch  67 Batch  138/172   train_loss = 0.981\n",
      "Epoch  68 Batch    0/172   train_loss = 0.859\n",
      "Epoch  68 Batch   34/172   train_loss = 0.742\n",
      "Epoch  68 Batch   68/172   train_loss = 0.773\n",
      "Epoch  68 Batch  102/172   train_loss = 1.013\n",
      "Epoch  68 Batch  136/172   train_loss = 1.027\n",
      "Epoch  68 Batch  170/172   train_loss = 0.830\n",
      "Epoch  69 Batch   32/172   train_loss = 0.784\n",
      "Epoch  69 Batch   66/172   train_loss = 0.823\n",
      "Epoch  69 Batch  100/172   train_loss = 0.972\n",
      "Epoch  69 Batch  134/172   train_loss = 0.845\n",
      "Epoch  69 Batch  168/172   train_loss = 0.916\n",
      "Epoch  70 Batch   30/172   train_loss = 0.805\n",
      "Epoch  70 Batch   64/172   train_loss = 0.866\n",
      "Epoch  70 Batch   98/172   train_loss = 1.004\n"
     ]
    },
    {
     "name": "stdout",
     "output_type": "stream",
     "text": [
      "Epoch  70 Batch  132/172   train_loss = 0.903\n",
      "Epoch  70 Batch  166/172   train_loss = 0.659\n",
      "Epoch  71 Batch   28/172   train_loss = 0.950\n",
      "Epoch  71 Batch   62/172   train_loss = 0.754\n",
      "Epoch  71 Batch   96/172   train_loss = 0.753\n",
      "Epoch  71 Batch  130/172   train_loss = 0.815\n",
      "Epoch  71 Batch  164/172   train_loss = 0.788\n",
      "Epoch  72 Batch   26/172   train_loss = 0.757\n",
      "Epoch  72 Batch   60/172   train_loss = 0.908\n",
      "Epoch  72 Batch   94/172   train_loss = 0.851\n",
      "Epoch  72 Batch  128/172   train_loss = 0.929\n",
      "Epoch  72 Batch  162/172   train_loss = 0.783\n",
      "Epoch  73 Batch   24/172   train_loss = 0.786\n",
      "Epoch  73 Batch   58/172   train_loss = 0.860\n",
      "Epoch  73 Batch   92/172   train_loss = 0.909\n",
      "Epoch  73 Batch  126/172   train_loss = 0.704\n",
      "Epoch  73 Batch  160/172   train_loss = 0.695\n",
      "Epoch  74 Batch   22/172   train_loss = 0.808\n",
      "Epoch  74 Batch   56/172   train_loss = 0.832\n",
      "Epoch  74 Batch   90/172   train_loss = 1.095\n",
      "Epoch  74 Batch  124/172   train_loss = 0.851\n",
      "Epoch  74 Batch  158/172   train_loss = 0.876\n",
      "Epoch  75 Batch   20/172   train_loss = 0.906\n",
      "Epoch  75 Batch   54/172   train_loss = 0.956\n",
      "Epoch  75 Batch   88/172   train_loss = 0.842\n",
      "Epoch  75 Batch  122/172   train_loss = 0.851\n",
      "Epoch  75 Batch  156/172   train_loss = 0.916\n",
      "Epoch  76 Batch   18/172   train_loss = 0.900\n",
      "Epoch  76 Batch   52/172   train_loss = 0.868\n",
      "Epoch  76 Batch   86/172   train_loss = 0.962\n",
      "Epoch  76 Batch  120/172   train_loss = 0.851\n",
      "Epoch  76 Batch  154/172   train_loss = 0.841\n",
      "Epoch  77 Batch   16/172   train_loss = 0.912\n",
      "Epoch  77 Batch   50/172   train_loss = 0.792\n",
      "Epoch  77 Batch   84/172   train_loss = 0.938\n",
      "Epoch  77 Batch  118/172   train_loss = 0.875\n",
      "Epoch  77 Batch  152/172   train_loss = 0.839\n",
      "Epoch  78 Batch   14/172   train_loss = 0.808\n",
      "Epoch  78 Batch   48/172   train_loss = 0.938\n",
      "Epoch  78 Batch   82/172   train_loss = 0.694\n",
      "Epoch  78 Batch  116/172   train_loss = 0.748\n",
      "Epoch  78 Batch  150/172   train_loss = 0.648\n",
      "Epoch  79 Batch   12/172   train_loss = 0.741\n",
      "Epoch  79 Batch   46/172   train_loss = 0.778\n",
      "Epoch  79 Batch   80/172   train_loss = 0.544\n",
      "Epoch  79 Batch  114/172   train_loss = 0.768\n",
      "Epoch  79 Batch  148/172   train_loss = 0.682\n",
      "Model Trained and Saved\n"
     ]
    }
   ],
   "source": [
    "\"\"\"\n",
    "DON'T MODIFY ANYTHING IN THIS CELL\n",
    "\"\"\"\n",
    "batches = get_batches(int_text, batch_size, seq_length)\n",
    "\n",
    "with tf.Session(graph=train_graph) as sess:\n",
    "    sess.run(tf.global_variables_initializer())\n",
    "\n",
    "    for epoch_i in range(num_epochs):\n",
    "        state = sess.run(initial_state, {input_text: batches[0][0]})\n",
    "\n",
    "        for batch_i, (x, y) in enumerate(batches):\n",
    "            feed = {\n",
    "                input_text: x,\n",
    "                targets: y,\n",
    "                initial_state: state,\n",
    "                lr: learning_rate}\n",
    "            train_loss, state, _ = sess.run([cost, final_state, train_op], feed)\n",
    "\n",
    "            # Show every <show_every_n_batches> batches\n",
    "            if (epoch_i * len(batches) + batch_i) % show_every_n_batches == 0:\n",
    "                print('Epoch {:>3} Batch {:>4}/{}   train_loss = {:.3f}'.format(\n",
    "                    epoch_i,\n",
    "                    batch_i,\n",
    "                    len(batches),\n",
    "                    train_loss))\n",
    "\n",
    "    # Save Model\n",
    "    saver = tf.train.Saver()\n",
    "    saver.save(sess, save_dir)\n",
    "    print('Model Trained and Saved')"
   ]
  },
  {
   "cell_type": "markdown",
   "metadata": {},
   "source": [
    "## Save Parameters\n",
    "Save `seq_length` and `save_dir` for generating a new TV script."
   ]
  },
  {
   "cell_type": "code",
   "execution_count": 68,
   "metadata": {},
   "outputs": [],
   "source": [
    "\"\"\"\n",
    "DON'T MODIFY ANYTHING IN THIS CELL\n",
    "\"\"\"\n",
    "# Save parameters for checkpoint\n",
    "helper.save_params((seq_length, save_dir))"
   ]
  },
  {
   "cell_type": "markdown",
   "metadata": {},
   "source": [
    "# Checkpoint"
   ]
  },
  {
   "cell_type": "code",
   "execution_count": 69,
   "metadata": {},
   "outputs": [],
   "source": [
    "\"\"\"\n",
    "DON'T MODIFY ANYTHING IN THIS CELL\n",
    "\"\"\"\n",
    "import tensorflow as tf\n",
    "import numpy as np\n",
    "import helper\n",
    "import problem_unittests as tests\n",
    "\n",
    "_, vocab_to_int, int_to_vocab, token_dict = helper.load_preprocess()\n",
    "seq_length, load_dir = helper.load_params()"
   ]
  },
  {
   "cell_type": "markdown",
   "metadata": {},
   "source": [
    "## Implement Generate Functions\n",
    "### Get Tensors\n",
    "Get tensors from `loaded_graph` using the function [`get_tensor_by_name()`](https://www.tensorflow.org/api_docs/python/tf/Graph#get_tensor_by_name).  Get the tensors using the following names:\n",
    "- \"input:0\"\n",
    "- \"initial_state:0\"\n",
    "- \"final_state:0\"\n",
    "- \"probs:0\"\n",
    "\n",
    "Return the tensors in the following tuple `(InputTensor, InitialStateTensor, FinalStateTensor, ProbsTensor)` "
   ]
  },
  {
   "cell_type": "code",
   "execution_count": 70,
   "metadata": {},
   "outputs": [
    {
     "name": "stdout",
     "output_type": "stream",
     "text": [
      "Tests Passed\n"
     ]
    }
   ],
   "source": [
    "def get_tensors(loaded_graph):\n",
    "    \"\"\"\n",
    "    Get input, initial state, final state, and probabilities tensor from <loaded_graph>\n",
    "    :param loaded_graph: TensorFlow graph loaded from file\n",
    "    :return: Tuple (InputTensor, InitialStateTensor, FinalStateTensor, ProbsTensor)\n",
    "    \"\"\"\n",
    "    # TODO: Implement Function\n",
    "    InputTensor = loaded_graph.get_tensor_by_name(name='input:0')\n",
    "    InitialStateTensor = loaded_graph.get_tensor_by_name(name='initial_state:0')\n",
    "    FinalStateTensor = loaded_graph.get_tensor_by_name(name='final_state:0')\n",
    "    ProbsTensor = loaded_graph.get_tensor_by_name(name='probs:0')\n",
    "    \n",
    "    return InputTensor, InitialStateTensor, FinalStateTensor, ProbsTensor\n",
    "\n",
    "\n",
    "\"\"\"\n",
    "DON'T MODIFY ANYTHING IN THIS CELL THAT IS BELOW THIS LINE\n",
    "\"\"\"\n",
    "tests.test_get_tensors(get_tensors)"
   ]
  },
  {
   "cell_type": "markdown",
   "metadata": {},
   "source": [
    "### Choose Word\n",
    "Implement the `pick_word()` function to select the next word using `probabilities`."
   ]
  },
  {
   "cell_type": "code",
   "execution_count": 71,
   "metadata": {},
   "outputs": [
    {
     "name": "stdout",
     "output_type": "stream",
     "text": [
      "Tests Passed\n"
     ]
    }
   ],
   "source": [
    "def pick_word(probabilities, int_to_vocab):\n",
    "    \"\"\"\n",
    "    Pick the next word in the generated text\n",
    "    :param probabilities: Probabilites of the next word\n",
    "    :param int_to_vocab: Dictionary of word ids as the keys and words as the values\n",
    "    :return: String of the predicted word\n",
    "    \"\"\"\n",
    "    # TODO: Implement Function\n",
    "    max_p_word_id = np.argmax(probabilities)\n",
    "    \n",
    "    return int_to_vocab[max_p_word_id]\n",
    "\n",
    "\n",
    "\"\"\"\n",
    "DON'T MODIFY ANYTHING IN THIS CELL THAT IS BELOW THIS LINE\n",
    "\"\"\"\n",
    "tests.test_pick_word(pick_word)"
   ]
  },
  {
   "cell_type": "markdown",
   "metadata": {},
   "source": [
    "## Generate TV Script\n",
    "This will generate the TV script for you.  Set `gen_length` to the length of TV script you want to generate."
   ]
  },
  {
   "cell_type": "code",
   "execution_count": 75,
   "metadata": {},
   "outputs": [
    {
     "name": "stdout",
     "output_type": "stream",
     "text": [
      "INFO:tensorflow:Restoring parameters from ./save\n",
      "homer_simpson:(talk-sings) while turning gay the other day / a thought occurred to me.\n",
      "homer_simpson:(drunk, emotional) ah, i think i'll volunteer, okay.\n",
      "homer_simpson:(excited) my wallet's in the car.\n",
      "moe_szyslak: no.\n",
      "homer_simpson:(sly) i do that?\n",
      "bart_simpson: what gives? he's a loser?\n",
      "moe_szyslak: oh, no. not tonight. not me, i know things are tough now. but the rest of your lives...(realizing) hey, hey, fat tony! homer's heart, they followed me home and here.\n",
      "homer_simpson:(shaking head)... while i do, moe, a little tipsy) yesterday's whatsit? why don't you slap him some payback?\n",
      "homer_simpson: revenge? on mr. burns?\n",
      "lenny_leonard: sure the bill for me to make up the place you in the place you\".\n",
      "moe_szyslak: no. i mean you broke your word, bart? yeah, things fixed back.\n",
      "barney_gumble:(shaking head) that's how it is\n"
     ]
    }
   ],
   "source": [
    "gen_length = 200\n",
    "# homer_simpson, moe_szyslak, or Barney_Gumble\n",
    "prime_word = 'homer_simpson'\n",
    "\n",
    "\"\"\"\n",
    "DON'T MODIFY ANYTHING IN THIS CELL THAT IS BELOW THIS LINE\n",
    "\"\"\"\n",
    "loaded_graph = tf.Graph()\n",
    "with tf.Session(graph=loaded_graph) as sess:\n",
    "    # Load saved model\n",
    "    loader = tf.train.import_meta_graph(load_dir + '.meta')\n",
    "    loader.restore(sess, load_dir)\n",
    "\n",
    "    # Get Tensors from loaded model\n",
    "    input_text, initial_state, final_state, probs = get_tensors(loaded_graph)\n",
    "\n",
    "    # Sentences generation setup\n",
    "    gen_sentences = [prime_word + ':']\n",
    "    prev_state = sess.run(initial_state, {input_text: np.array([[1]])})\n",
    "\n",
    "    # Generate sentences\n",
    "    for n in range(gen_length):\n",
    "        # Dynamic Input\n",
    "        dyn_input = [[vocab_to_int[word] for word in gen_sentences[-seq_length:]]]\n",
    "        dyn_seq_length = len(dyn_input[0])\n",
    "\n",
    "        # Get Prediction\n",
    "        probabilities, prev_state = sess.run(\n",
    "            [probs, final_state],\n",
    "            {input_text: dyn_input, initial_state: prev_state})\n",
    "        \n",
    "        pred_word = pick_word(probabilities[0][dyn_seq_length-1], int_to_vocab)\n",
    "\n",
    "        gen_sentences.append(pred_word)\n",
    "    \n",
    "    # Remove tokens\n",
    "    tv_script = ' '.join(gen_sentences)\n",
    "    for key, token in token_dict.items():\n",
    "        ending = ' ' if key in ['\\n', '(', '\"'] else ''\n",
    "        tv_script = tv_script.replace(' ' + token.lower(), key)\n",
    "    tv_script = tv_script.replace('\\n ', '\\n')\n",
    "    tv_script = tv_script.replace('( ', '(')\n",
    "        \n",
    "    print(tv_script)"
   ]
  },
  {
   "cell_type": "markdown",
   "metadata": {},
   "source": [
    "# The TV Script is Nonsensical\n",
    "It's ok if the TV script doesn't make any sense.  We trained on less than a megabyte of text.  In order to get good results, you'll have to use a smaller vocabulary or get more data.  Luckily there's more data!  As we mentioned in the beggining of this project, this is a subset of [another dataset](https://www.kaggle.com/wcukierski/the-simpsons-by-the-data).  We didn't have you train on all the data, because that would take too long.  However, you are free to train your neural network on all the data.  After you complete the project, of course.\n",
    "# Submitting This Project\n",
    "When submitting this project, make sure to run all the cells before saving the notebook. Save the notebook file as \"dlnd_tv_script_generation.ipynb\" and save it as a HTML file under \"File\" -> \"Download as\". Include the \"helper.py\" and \"problem_unittests.py\" files in your submission."
   ]
  }
 ],
 "metadata": {
  "kernelspec": {
   "display_name": "Python [default]",
   "language": "python",
   "name": "python3"
  },
  "language_info": {
   "codemirror_mode": {
    "name": "ipython",
    "version": 3
   },
   "file_extension": ".py",
   "mimetype": "text/x-python",
   "name": "python",
   "nbconvert_exporter": "python",
   "pygments_lexer": "ipython3",
   "version": "3.6.5"
  },
  "widgets": {
   "state": {},
   "version": "1.1.2"
  }
 },
 "nbformat": 4,
 "nbformat_minor": 1
}
